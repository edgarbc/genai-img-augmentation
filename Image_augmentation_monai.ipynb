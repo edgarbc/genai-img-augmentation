{
  "nbformat": 4,
  "nbformat_minor": 0,
  "metadata": {
    "colab": {
      "provenance": [],
      "gpuType": "T4",
      "authorship_tag": "ABX9TyODB9V7y33R5UEFr+tLMhFv",
      "include_colab_link": true
    },
    "kernelspec": {
      "name": "python3",
      "display_name": "Python 3"
    },
    "language_info": {
      "name": "python"
    },
    "accelerator": "GPU"
  },
  "cells": [
    {
      "cell_type": "markdown",
      "metadata": {
        "id": "view-in-github",
        "colab_type": "text"
      },
      "source": [
        "<a href=\"https://colab.research.google.com/github/edgarbc/genai-img-augmentation/blob/main/Image_augmentation_monai.ipynb\" target=\"_parent\"><img src=\"https://colab.research.google.com/assets/colab-badge.svg\" alt=\"Open In Colab\"/></a>"
      ]
    },
    {
      "cell_type": "markdown",
      "source": [
        "# Project: Medical image augmentation using monai\n",
        "\n",
        "by Edgar Bermudez - edgar.bermudez@gmail.com\n",
        "\n",
        "September, 2023."
      ],
      "metadata": {
        "id": "dB4pLP1p5ahr"
      }
    },
    {
      "cell_type": "markdown",
      "source": [
        "**Enabling GPU Support**\n",
        "\n",
        "To use GPU resources through Colab, change the runtime to GPU:\n",
        "\n",
        "1. From the **\"Runtime\"** menu select **\"Change Runtime Type\"**\n",
        "2. Choose **\"GPU\"** from the drop-down menu\n",
        "3. Click **\"SAVE\"**\n",
        "\n",
        "This will reset the notebook and probably ask you if you are a robot (these instructions assume you are not). Running\n",
        "\n",
        "**!nvidia-smi**\n",
        "\n",
        "in a cell will verify this has worked and show you what kind of hardware you have access to.    "
      ],
      "metadata": {
        "id": "B1D1-x_a6J0o"
      }
    },
    {
      "cell_type": "code",
      "source": [
        "!nvidia-smi"
      ],
      "metadata": {
        "colab": {
          "base_uri": "https://localhost:8080/"
        },
        "id": "YnzgSiEt6UyQ",
        "outputId": "5c546ce1-bac8-45b1-f6d3-5678c75cc200"
      },
      "execution_count": 1,
      "outputs": [
        {
          "output_type": "stream",
          "name": "stdout",
          "text": [
            "Thu Sep 14 04:23:19 2023       \n",
            "+-----------------------------------------------------------------------------+\n",
            "| NVIDIA-SMI 525.105.17   Driver Version: 525.105.17   CUDA Version: 12.0     |\n",
            "|-------------------------------+----------------------+----------------------+\n",
            "| GPU  Name        Persistence-M| Bus-Id        Disp.A | Volatile Uncorr. ECC |\n",
            "| Fan  Temp  Perf  Pwr:Usage/Cap|         Memory-Usage | GPU-Util  Compute M. |\n",
            "|                               |                      |               MIG M. |\n",
            "|===============================+======================+======================|\n",
            "|   0  Tesla T4            Off  | 00000000:00:04.0 Off |                    0 |\n",
            "| N/A   60C    P8    11W /  70W |      0MiB / 15360MiB |      0%      Default |\n",
            "|                               |                      |                  N/A |\n",
            "+-------------------------------+----------------------+----------------------+\n",
            "                                                                               \n",
            "+-----------------------------------------------------------------------------+\n",
            "| Processes:                                                                  |\n",
            "|  GPU   GI   CI        PID   Type   Process name                  GPU Memory |\n",
            "|        ID   ID                                                   Usage      |\n",
            "|=============================================================================|\n",
            "|  No running processes found                                                 |\n",
            "+-----------------------------------------------------------------------------+\n"
          ]
        }
      ]
    },
    {
      "cell_type": "code",
      "execution_count": 3,
      "metadata": {
        "colab": {
          "base_uri": "https://localhost:8080/"
        },
        "id": "UzdPP0j-2_L2",
        "outputId": "af990b65-a451-440e-87b6-cb35a70be362"
      },
      "outputs": [
        {
          "output_type": "stream",
          "name": "stdout",
          "text": [
            "\u001b[2K     \u001b[90m━━━━━━━━━━━━━━━━━━━━━━━━━━━━━━━━━━━━━━━━\u001b[0m \u001b[32m1.3/1.3 MB\u001b[0m \u001b[31m8.6 MB/s\u001b[0m eta \u001b[36m0:00:00\u001b[0m\n",
            "\u001b[2K     \u001b[90m━━━━━━━━━━━━━━━━━━━━━━━━━━━━━━━━━━━━━━\u001b[0m \u001b[32m266.5/266.5 kB\u001b[0m \u001b[31m11.8 MB/s\u001b[0m eta \u001b[36m0:00:00\u001b[0m\n",
            "\u001b[?25h"
          ]
        }
      ],
      "source": [
        "!pip install -qU \"monai[ignite,nibabel,torchvision,tqdm]\""
      ]
    },
    {
      "cell_type": "code",
      "source": [
        "import tempfile\n",
        "import nibabel as nib\n",
        "import numpy as np\n",
        "import matplotlib.pyplot as plt\n",
        "from typing import Optional, Any, Mapping, Hashable\n",
        "\n",
        "import monai\n",
        "from monai.config import print_config\n",
        "from monai.utils import first\n",
        "from monai.config import KeysCollection\n",
        "from monai.data import Dataset, ArrayDataset, create_test_image_3d, DataLoader\n",
        "from monai.transforms import (\n",
        "    Transform,\n",
        "    MapTransform,\n",
        "    Randomizable,\n",
        "    AddChannel,\n",
        "    AddChanneld,\n",
        "    Compose,\n",
        "    LoadImage,\n",
        "    LoadImaged,\n",
        "    Lambda,\n",
        "    Lambdad,\n",
        "    RandSpatialCrop,\n",
        "    RandSpatialCropd,\n",
        "    ToTensor,\n",
        "    ToTensord,\n",
        "    Orientation,\n",
        "    Rotate\n",
        ")\n",
        "print_config()"
      ],
      "metadata": {
        "id": "w3HXsm9y7udk"
      },
      "execution_count": 4,
      "outputs": []
    },
    {
      "cell_type": "code",
      "source": [
        "# load dataset"
      ],
      "metadata": {
        "id": "lV9Saldh8N-d"
      },
      "execution_count": null,
      "outputs": []
    },
    {
      "cell_type": "code",
      "source": [
        "# display a couple images"
      ],
      "metadata": {
        "id": "pTOE0JQ68RRk"
      },
      "execution_count": null,
      "outputs": []
    },
    {
      "cell_type": "code",
      "source": [
        "# load a generative model"
      ],
      "metadata": {
        "id": "davxPM-n8T_R"
      },
      "execution_count": 5,
      "outputs": []
    }
  ]
}